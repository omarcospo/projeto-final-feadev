{
 "cells": [
  {
   "cell_type": "code",
   "execution_count": null,
   "metadata": {},
   "outputs": [],
   "source": [
    "import pandas as pd"
   ]
  },
  {
   "cell_type": "code",
   "execution_count": 2,
   "metadata": {},
   "outputs": [],
   "source": [
    "pib_br = pd.read_csv(\"PIB 1995-2024.csv\", sep=\",\")\n",
    "pib_br = pd.DataFrame(pib_br)\n",
    "pib_br['Data'] = pib_br['Data'].astype(str)\n",
    "pib_br['Data'] = pib_br['Data'].str.replace('.', '/')\n",
    "pib_br['Data'] = pd.to_datetime(pib_br['Data'], format= '%Y/%m')"
   ]
  },
  {
   "cell_type": "code",
   "execution_count": 56,
   "metadata": {},
   "outputs": [],
   "source": [
    "pib_usa= pd.read_csv(\"GDP 1992-2024.csv\", sep=\",\")\n",
    "pib_usa=pd.DataFrame(pib_usa)\n",
    "pib_usa=pib_usa.rename(columns={'Unnamed: 0':'Data'})\n",
    "\n",
    "pib_usa=pib_usa[['Data', 'Monthly Nominal GDP Index']]\n",
    "pib_usa=pib_usa.dropna()\n",
    "\n",
    "pib_usa['Data'] = pib_usa['Data'].str.replace(' - ', '/')\n",
    "pib_usa['Data'] = pib_usa['Data'].str.replace(' ', '')\n",
    "meses = {\n",
    "  'Jan': '01', 'Feb': '02', 'Mar': '03', 'Apr': '04', \n",
    "  'May': '05', 'June': '06', 'July':'07', 'Jun': '06', 'Jul': '07', 'Aug': '08', \n",
    "  'Sep': '09', 'Oct': '10', 'Nov': '11', 'Dec': '12',\n",
    "}\n",
    "for mes in meses.keys():\n",
    "  pib_usa['Data'] = pib_usa['Data'].str.replace(mes, meses[mes])\n",
    "\n",
    "pib_usa['Data'] = pd.to_datetime(pib_usa['Data'], format='%Y/%m')"
   ]
  }
 ],
 "metadata": {
  "kernelspec": {
   "display_name": "python",
   "language": "python",
   "name": "python3"
  },
  "language_info": {
   "codemirror_mode": {
    "name": "ipython",
    "version": 3
   },
   "file_extension": ".py",
   "mimetype": "text/x-python",
   "name": "python",
   "nbconvert_exporter": "python",
   "pygments_lexer": "ipython3",
   "version": "3.12.4"
  }
 },
 "nbformat": 4,
 "nbformat_minor": 2
}
