{
 "cells": [
  {
   "cell_type": "code",
   "execution_count": 13,
   "metadata": {},
   "outputs": [],
   "source": [
    "import pandas as pd"
   ]
  },
  {
   "cell_type": "markdown",
   "metadata": {},
   "source": [
    "**Limpeza de dados: PIB do Brasil**"
   ]
  },
  {
   "cell_type": "code",
   "execution_count": 14,
   "metadata": {},
   "outputs": [],
   "source": [
    "pib_br = pd.read_csv(\"PIB 1995-2024.csv\", sep=\",\")\n",
    "pib_br = pd.DataFrame(pib_br)\n",
    "pib_br['Data'] = pib_br['Data'].astype(str)\n",
    "pib_br['Data'] = pib_br['Data'].str.replace('.', '/')\n",
    "pib_br['Data'] = pd.to_datetime(pib_br['Data'], format= '%Y/%m')\n",
    "pib_br = pib_br[(pib_br['Data'] >= '1995-01-01') & (pib_br['Data'] <= '2024-01-01')]\n",
    "pib_br = pib_br.rename(columns={'PIB - R$ (milhões)  - Banco Central do Brasil, Boletim, Seção Atividade Econômica (Bacen / Boletim / Ativ. Ec.) - BM12_PIB12 - ':'PIB Brasil'})\n",
    "pib_br['PIB Brasil'] = pd.to_numeric(pib_br['PIB Brasil'], errors='coerce')\n",
    "pib_br['PIB Brasil'] = pib_br['PIB Brasil'].apply(lambda x: '{:.2f}'.format(x))"
   ]
  },
  {
   "cell_type": "markdown",
   "metadata": {},
   "source": [
    "**Limpeza de dados: PIB dos EUA**"
   ]
  },
  {
   "cell_type": "code",
   "execution_count": 15,
   "metadata": {},
   "outputs": [],
   "source": [
    "pib_usa= pd.read_csv(\"GDP 1992-2024.csv\", sep=\",\")\n",
    "pib_usa=pd.DataFrame(pib_usa)\n",
    "pib_usa=pib_usa.rename(columns={'Unnamed: 0':'Data'})\n",
    "\n",
    "pib_usa=pib_usa[['Data', 'Monthly Nominal GDP Index']]\n",
    "pib_usa=pib_usa.dropna()\n",
    "\n",
    "pib_usa['Data'] = pib_usa['Data'].str.replace(' - ', '/')\n",
    "pib_usa['Data'] = pib_usa['Data'].str.replace(' ', '')\n",
    "meses = {\n",
    "  'Jan': '01', 'Feb': '02', 'Mar': '03', 'Apr': '04', \n",
    "  'May': '05', 'June': '06', 'July':'07', 'Jun': '06', 'Jul': '07', 'Aug': '08', \n",
    "  'Sep': '09', 'Oct': '10', 'Nov': '11', 'Dec': '12',\n",
    "}\n",
    "for mes in meses.keys():\n",
    "  pib_usa['Data'] = pib_usa['Data'].str.replace(mes, meses[mes])\n",
    "\n",
    "pib_usa['Data'] = pd.to_datetime(pib_usa['Data'], format='%Y/%m')\n",
    "pib_usa = pib_usa[(pib_usa['Data'] >= '1995-01-01') & (pib_usa['Data'] <= '2024-01-01')]\n",
    "pib_usa = pib_usa.rename(columns={'Monthly Nominal GDP Index':'PIB EUA'})\n",
    "pib_usa['PIB EUA'] = pd.to_numeric(pib_usa['PIB EUA'], errors='coerce')\n",
    "pib_usa['PIB EUA'] = pib_usa['PIB EUA'].apply(lambda x: '{:.2f}'.format(x))"
   ]
  },
  {
   "cell_type": "markdown",
   "metadata": {},
   "source": [
    "**Limpeza de dados: IBOV**"
   ]
  },
  {
   "cell_type": "code",
   "execution_count": 16,
   "metadata": {},
   "outputs": [],
   "source": [
    "ibov = pd.read_csv(\"BVSP 1993-2024.csv\", sep=\",\")\n",
    "ibov = pd.DataFrame(ibov)\n",
    "ibov['Date'] = ibov['Date'].astype(str)\n",
    "ibov['Date'] = ibov['Date'].str.replace('-', '/')\n",
    "ibov['Date'] = pd.to_datetime(ibov['Date'], format='%Y/%m/%d')\n",
    "ibov = ibov.dropna()\n",
    "ibov.set_index('Date', inplace=True)\n",
    "ibov = ibov.resample('MS').first()\n",
    "ibov.reset_index(inplace=True)\n",
    "ibov = ibov[['Date', 'Close']]\n",
    "ibov = ibov.rename(columns={'Date':'Data'})\n",
    "ibov = ibov.rename(columns={'Close':'Fechamento IBOV'})\n",
    "ibov = ibov[(ibov['Data'] >= '1995-01-01') & (ibov['Data'] <= '2024-01-01')]\n",
    "ibov['Fechamento IBOV'] = pd.to_numeric(ibov['Fechamento IBOV'], errors='coerce')\n",
    "ibov['Fechamento IBOV'] = ibov['Fechamento IBOV'].apply(lambda x: '{:.2f}'.format(x))"
   ]
  },
  {
   "cell_type": "markdown",
   "metadata": {},
   "source": [
    "**Limpeza de dados: S&P500**"
   ]
  },
  {
   "cell_type": "code",
   "execution_count": 17,
   "metadata": {},
   "outputs": [],
   "source": [
    "sp500 = pd.read_csv(\"SP500 1993-2024.csv\", sep=\",\")\n",
    "sp500 = sp500.dropna()\n",
    "sp500 = sp500[['Data','Fechamento*']]\n",
    "sp500['Data'] = sp500['Data'].astype(str)\n",
    "sp500['Data'] = sp500['Data'].str.replace(' de ', '/').str.replace(' ', '').str.replace('.', '')\n",
    "meses = {\n",
    "  'jan': '01', 'fev': '02', 'mar': '03', 'abr': '04', \n",
    "  'mai': '05', 'junho': '06', 'julho': '07', 'jun': '06', 'jul': '07', 'ago': '08', \n",
    "  'set': '09', 'out': '10', 'nov': '11', 'dez': '12',\n",
    "}\n",
    "for mes in meses.keys():\n",
    "  sp500['Data'] = sp500['Data'].str.replace(mes, meses[mes])\n",
    "sp500['Data'] = pd.to_datetime(sp500['Data'], format='%d/%m/%Y')\n",
    "sp500 = sp500[(sp500['Data'] >= '1995-01-01') & (sp500['Data'] <= '2024-01-01')]\n",
    "sp500.set_index('Data', inplace=True)\n",
    "sp500.sort_values(by='Data', ascending=True, inplace=True)\n",
    "sp500 = sp500.resample('MS').first()\n",
    "sp500['Fechamento*'] = sp500['Fechamento*'].str.replace('.', '').str.replace(',', '.')\n",
    "sp500 = sp500.rename(columns={'Fechamento*':'Fechamento S&P500'})\n",
    "sp500['Fechamento S&P500'] = pd.to_numeric(sp500['Fechamento S&P500'], errors='coerce')\n",
    "sp500['Fechamento S&P500'] = sp500['Fechamento S&P500'].apply(lambda x: '{:.2f}'.format(x))"
   ]
  },
  {
   "cell_type": "code",
   "execution_count": 18,
   "metadata": {},
   "outputs": [],
   "source": [
    "dados = pd.merge(pib_usa, pib_br, on='Data')\n",
    "dados = pd.merge(dados, ibov, on='Data')\n",
    "dados = pd.merge(dados, sp500, on='Data')\n",
    "dados"
   ]
  }
 ],
 "metadata": {
  "kernelspec": {
   "display_name": "python",
   "language": "python",
   "name": "python3"
  },
  "language_info": {
   "codemirror_mode": {
    "name": "ipython",
    "version": 3
   },
   "file_extension": ".py",
   "mimetype": "text/x-python",
   "name": "python",
   "nbconvert_exporter": "python",
   "pygments_lexer": "ipython3",
   "version": "3.11.9"
  }
 },
 "nbformat": 4,
 "nbformat_minor": 2
}
