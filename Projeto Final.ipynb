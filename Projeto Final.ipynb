{
 "cells": [
  {
   "cell_type": "code",
   "execution_count": null,
   "metadata": {},
   "outputs": [],
   "source": [
    "import pandas as pd"
   ]
  },
  {
   "cell_type": "code",
   "execution_count": 2,
   "metadata": {},
   "outputs": [],
   "source": [
    "pib_br = pd.read_csv(\"PIB 1995-2024.csv\", sep=\",\")\n",
    "pib_br = pd.DataFrame(pib_br)\n",
    "pib_br['Data'] = pib_br['Data'].astype(str)\n",
    "pib_br['Data'] = pib_br['Data'].str.replace('.', '/')\n",
    "pib_br['Data'] = pd.to_datetime(pib_br['Data'], format= '%Y/%m')"
   ]
  },
